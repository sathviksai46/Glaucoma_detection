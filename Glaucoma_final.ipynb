{
  "nbformat": 4,
  "nbformat_minor": 0,
  "metadata": {
    "colab": {
      "provenance": [],
      "gpuType": "T4"
    },
    "kernelspec": {
      "name": "python3",
      "display_name": "Python 3"
    },
    "language_info": {
      "name": "python"
    },
    "accelerator": "GPU"
  },
  "cells": [
    {
      "cell_type": "code",
      "source": [
        "# @title Warnings Filter\n",
        "import warnings\n",
        "warnings.filterwarnings(\"ignore\")"
      ],
      "metadata": {
        "id": "rHn8WYnAswAr"
      },
      "execution_count": 1,
      "outputs": []
    },
    {
      "cell_type": "code",
      "source": [
        "# @title Runtime selection\n",
        "import torch\n",
        "runtime= torch.device(\"cuda\" if torch.cuda.is_available() else \"cpu\")\n",
        "runtime"
      ],
      "metadata": {
        "colab": {
          "base_uri": "https://localhost:8080/"
        },
        "id": "6wESCxJZIvXY",
        "outputId": "c5b9dd58-3363-4f0d-8b02-537f4164a80e"
      },
      "execution_count": 2,
      "outputs": [
        {
          "output_type": "execute_result",
          "data": {
            "text/plain": [
              "device(type='cpu')"
            ]
          },
          "metadata": {},
          "execution_count": 2
        }
      ]
    },
    {
      "cell_type": "code",
      "execution_count": 3,
      "metadata": {
        "colab": {
          "base_uri": "https://localhost:8080/"
        },
        "id": "a5XVBfqkbdT7",
        "outputId": "0e1e696d-c615-41aa-e9d5-f5d8843940fd"
      },
      "outputs": [
        {
          "output_type": "stream",
          "name": "stdout",
          "text": [
            "Mounted at /content/drive\n"
          ]
        }
      ],
      "source": [
        "# @title Google Drive\n",
        "from google.colab import drive\n",
        "drive.mount('/content/drive')\n",
        "trainpath = '/content/drive/My Drive/train'\n",
        "testpath = '/content/drive/My Drive/test'"
      ]
    },
    {
      "cell_type": "code",
      "source": [
        "# @title Image Preprocessing function\n",
        "from torchvision import transforms\n",
        "trans=transforms.Compose([transforms.Resize((224,224)),transforms.ToTensor(),transforms.Normalize([0.485, 0.456, 0.406],[0.229, 0.224, 0.225])])"
      ],
      "metadata": {
        "id": "R5wfI-x9bicn"
      },
      "execution_count": 4,
      "outputs": []
    },
    {
      "cell_type": "code",
      "source": [
        "# @title Dataset loading Training Set and Test Set\n",
        "from torchvision import datasets\n",
        "trainset=datasets.ImageFolder(trainpath,trans)\n",
        "testset=datasets.ImageFolder(testpath,trans)\n",
        "trainset.classes"
      ],
      "metadata": {
        "colab": {
          "base_uri": "https://localhost:8080/"
        },
        "id": "ASYQOyMweAJz",
        "outputId": "d6cc1d0e-f1c2-4e8e-ff0b-7c603055d91a"
      },
      "execution_count": 5,
      "outputs": [
        {
          "output_type": "execute_result",
          "data": {
            "text/plain": [
              "['0', '1']"
            ]
          },
          "metadata": {},
          "execution_count": 5
        }
      ]
    },
    {
      "cell_type": "code",
      "source": [
        "# @title Initializing the Batch Size\n",
        "from torch.utils.data import DataLoader\n",
        "train=DataLoader(trainset,batch_size=32,shuffle=True,num_workers=4)\n",
        "test=DataLoader(testset,batch_size=32,shuffle=True,num_workers=4)"
      ],
      "metadata": {
        "id": "8ZDXTEiWhI-v"
      },
      "execution_count": 6,
      "outputs": []
    },
    {
      "cell_type": "code",
      "source": [
        "# @title Importing the pretrained ResNet18 model\n",
        "from torchvision import models\n",
        "model=models.resnet18(pretrained=True)\n",
        "model.fc"
      ],
      "metadata": {
        "colab": {
          "base_uri": "https://localhost:8080/"
        },
        "id": "lzEEPZChnQDY",
        "outputId": "45f30a0d-49eb-448c-d03e-6e5978d5e34b"
      },
      "execution_count": 7,
      "outputs": [
        {
          "output_type": "stream",
          "name": "stderr",
          "text": [
            "Downloading: \"https://download.pytorch.org/models/resnet18-f37072fd.pth\" to /root/.cache/torch/hub/checkpoints/resnet18-f37072fd.pth\n",
            "100%|██████████| 44.7M/44.7M [00:00<00:00, 136MB/s]\n"
          ]
        },
        {
          "output_type": "execute_result",
          "data": {
            "text/plain": [
              "Linear(in_features=512, out_features=1000, bias=True)"
            ]
          },
          "metadata": {},
          "execution_count": 7
        }
      ]
    },
    {
      "cell_type": "code",
      "source": [
        "# @title Modifiying the ResNet18 to Binary Classifying Model\n",
        "import torch.nn\n",
        "count_inp_feat=model.fc.in_features\n",
        "model.fc=torch.nn.Sequential(torch.nn.Dropout(p=0.5),torch.nn.Linear(count_inp_feat,2))\n",
        "model.fc"
      ],
      "metadata": {
        "colab": {
          "base_uri": "https://localhost:8080/"
        },
        "id": "Uf0CGDF4ryXD",
        "outputId": "8e08c219-f45e-4e43-b58e-db80dfcd133e"
      },
      "execution_count": 8,
      "outputs": [
        {
          "output_type": "execute_result",
          "data": {
            "text/plain": [
              "Sequential(\n",
              "  (0): Dropout(p=0.5, inplace=False)\n",
              "  (1): Linear(in_features=512, out_features=2, bias=True)\n",
              ")"
            ]
          },
          "metadata": {},
          "execution_count": 8
        }
      ]
    },
    {
      "cell_type": "code",
      "source": [
        "# @title Loss and Optimizer\n",
        "import torch.optim\n",
        "import torch.optim.lr_scheduler as scheduler\n",
        "loss=torch.nn.CrossEntropyLoss()\n",
        "optimizer=torch.optim.Adam(model.parameters(),lr=0.0001)\n",
        "sched=scheduler.StepLR(optimizer, step_size=10, gamma=0.1)"
      ],
      "metadata": {
        "id": "hU86Wom5tELn"
      },
      "execution_count": 9,
      "outputs": []
    },
    {
      "cell_type": "code",
      "source": [
        "# @title Training\n",
        "import torch\n",
        "epochs=5\n",
        "model.to(runtime)\n",
        "for ep in range(epochs):\n",
        "  model.train()\n",
        "  loss_overall,cor,tot=0,0,0\n",
        "  for inp,lab in train:\n",
        "    inp,lab=inp.to(runtime),lab.to(runtime)\n",
        "    optimizer.zero_grad()\n",
        "    out=model(inp)\n",
        "    loss_current=loss(out,lab)\n",
        "    loss_current.backward()\n",
        "    optimizer.step()\n",
        "    loss_overall+=loss_current.item()\n",
        "    x,pred=torch.max(out.data,1)\n",
        "    cor+=(pred==lab).sum().item()\n",
        "    tot+=lab.size(0)\n",
        "  print(\"Epoch:\",ep+1,\"Loss:\",'%.2f'%(loss_overall/len(train)),\"Accuracy:\",'%.2f'%(cor/tot*100))\n",
        "  sched.step()"
      ],
      "metadata": {
        "colab": {
          "base_uri": "https://localhost:8080/"
        },
        "id": "Cqvu7axSwsDW",
        "outputId": "2ae8de36-7c57-4e98-bb38-aa18cf017ce9"
      },
      "execution_count": null,
      "outputs": [
        {
          "output_type": "stream",
          "name": "stdout",
          "text": [
            "Epoch: 1 Loss: 0.42 Accuracy: 81.12\n",
            "Epoch: 2 Loss: 0.27 Accuracy: 88.88\n",
            "Epoch: 3 Loss: 0.20 Accuracy: 91.88\n",
            "Epoch: 4 Loss: 0.15 Accuracy: 93.85\n",
            "Epoch: 5 Loss: 0.11 Accuracy: 95.56\n"
          ]
        }
      ]
    },
    {
      "cell_type": "code",
      "source": [
        "# @title Testing and Evaluation\n",
        "model.eval()\n",
        "for inp,lab in train:\n",
        "  inp,lab=inp.to(runtime),lab.to(runtime)\n",
        "  out=model(inp)\n",
        "  x,pred=torch.max(out.data,1)\n",
        "  cor+=(pred==lab).sum().item()\n",
        "  tot+=lab.size(0)\n",
        "print(\"Accuracy:\",'%.2f'%(cor/tot*100))"
      ],
      "metadata": {
        "colab": {
          "base_uri": "https://localhost:8080/"
        },
        "id": "-CGvfj1CMIQD",
        "outputId": "51f0d8bb-7917-449c-f540-a83d6e533c93"
      },
      "execution_count": 23,
      "outputs": [
        {
          "output_type": "stream",
          "name": "stdout",
          "text": [
            "Accuracy: 99.83\n"
          ]
        }
      ]
    }
  ]
}